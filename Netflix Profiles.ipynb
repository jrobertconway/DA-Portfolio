{
 "cells": [
  {
   "cell_type": "code",
   "execution_count": 1,
   "id": "fe214b9b",
   "metadata": {},
   "outputs": [],
   "source": [
    "import pandas as pd\n",
    "df = pd.read_csv('/Users/johnconway/Downloads/netflix-report/CONTENT_INTERACTION/ViewingActivity.csv')"
   ]
  },
  {
   "cell_type": "code",
   "execution_count": 2,
   "id": "2e04b1f6",
   "metadata": {},
   "outputs": [
    {
     "data": {
      "text/plain": [
       "(20280, 10)"
      ]
     },
     "execution_count": 2,
     "metadata": {},
     "output_type": "execute_result"
    }
   ],
   "source": [
    "df.shape"
   ]
  },
  {
   "cell_type": "code",
   "execution_count": 3,
   "id": "ec3b7b7f",
   "metadata": {},
   "outputs": [
    {
     "data": {
      "text/html": [
       "<div>\n",
       "<style scoped>\n",
       "    .dataframe tbody tr th:only-of-type {\n",
       "        vertical-align: middle;\n",
       "    }\n",
       "\n",
       "    .dataframe tbody tr th {\n",
       "        vertical-align: top;\n",
       "    }\n",
       "\n",
       "    .dataframe thead th {\n",
       "        text-align: right;\n",
       "    }\n",
       "</style>\n",
       "<table border=\"1\" class=\"dataframe\">\n",
       "  <thead>\n",
       "    <tr style=\"text-align: right;\">\n",
       "      <th></th>\n",
       "      <th>Profile Name</th>\n",
       "      <th>Start Time</th>\n",
       "      <th>Duration</th>\n",
       "      <th>Attributes</th>\n",
       "      <th>Title</th>\n",
       "      <th>Supplemental Video Type</th>\n",
       "      <th>Device Type</th>\n",
       "      <th>Bookmark</th>\n",
       "      <th>Latest Bookmark</th>\n",
       "      <th>Country</th>\n",
       "    </tr>\n",
       "  </thead>\n",
       "  <tbody>\n",
       "    <tr>\n",
       "      <th>0</th>\n",
       "      <td>John</td>\n",
       "      <td>2023-10-15 01:19:16</td>\n",
       "      <td>00:06:58</td>\n",
       "      <td>NaN</td>\n",
       "      <td>Lupin: Part 2: Chapter 7 (Episode 2)</td>\n",
       "      <td>NaN</td>\n",
       "      <td>Apple iPad Pro 11 in 3rd Gen (Wi-Fi) iPad</td>\n",
       "      <td>00:38:25</td>\n",
       "      <td>00:38:25</td>\n",
       "      <td>US (United States)</td>\n",
       "    </tr>\n",
       "    <tr>\n",
       "      <th>1</th>\n",
       "      <td>John</td>\n",
       "      <td>2023-10-15 00:19:47</td>\n",
       "      <td>00:20:57</td>\n",
       "      <td>NaN</td>\n",
       "      <td>Lupin: Part 2: Chapter 7 (Episode 2)</td>\n",
       "      <td>NaN</td>\n",
       "      <td>Apple iPad Pro 11 in 3rd Gen (Wi-Fi) iPad</td>\n",
       "      <td>00:28:07</td>\n",
       "      <td>Not latest view</td>\n",
       "      <td>US (United States)</td>\n",
       "    </tr>\n",
       "    <tr>\n",
       "      <th>2</th>\n",
       "      <td>John</td>\n",
       "      <td>2023-10-12 05:03:02</td>\n",
       "      <td>00:03:11</td>\n",
       "      <td>NaN</td>\n",
       "      <td>Sailor Moon Crystal: Season 1: Act. 6 Tuxedo M...</td>\n",
       "      <td>NaN</td>\n",
       "      <td>Apple TV 4K</td>\n",
       "      <td>00:03:11</td>\n",
       "      <td>00:03:11</td>\n",
       "      <td>US (United States)</td>\n",
       "    </tr>\n",
       "    <tr>\n",
       "      <th>3</th>\n",
       "      <td>John</td>\n",
       "      <td>2023-10-12 04:40:35</td>\n",
       "      <td>00:22:26</td>\n",
       "      <td>NaN</td>\n",
       "      <td>Sailor Moon Crystal: Season 1: Act. 5 Makoto -...</td>\n",
       "      <td>NaN</td>\n",
       "      <td>Apple TV 4K</td>\n",
       "      <td>00:22:26</td>\n",
       "      <td>00:22:26</td>\n",
       "      <td>US (United States)</td>\n",
       "    </tr>\n",
       "    <tr>\n",
       "      <th>4</th>\n",
       "      <td>John</td>\n",
       "      <td>2023-10-12 04:17:34</td>\n",
       "      <td>00:22:26</td>\n",
       "      <td>NaN</td>\n",
       "      <td>Sailor Moon Crystal: Season 1: Act. 4 Masquera...</td>\n",
       "      <td>NaN</td>\n",
       "      <td>Apple TV 4K</td>\n",
       "      <td>00:22:26</td>\n",
       "      <td>00:22:26</td>\n",
       "      <td>US (United States)</td>\n",
       "    </tr>\n",
       "  </tbody>\n",
       "</table>\n",
       "</div>"
      ],
      "text/plain": [
       "  Profile Name           Start Time  Duration Attributes  \\\n",
       "0         John  2023-10-15 01:19:16  00:06:58        NaN   \n",
       "1         John  2023-10-15 00:19:47  00:20:57        NaN   \n",
       "2         John  2023-10-12 05:03:02  00:03:11        NaN   \n",
       "3         John  2023-10-12 04:40:35  00:22:26        NaN   \n",
       "4         John  2023-10-12 04:17:34  00:22:26        NaN   \n",
       "\n",
       "                                               Title Supplemental Video Type  \\\n",
       "0               Lupin: Part 2: Chapter 7 (Episode 2)                     NaN   \n",
       "1               Lupin: Part 2: Chapter 7 (Episode 2)                     NaN   \n",
       "2  Sailor Moon Crystal: Season 1: Act. 6 Tuxedo M...                     NaN   \n",
       "3  Sailor Moon Crystal: Season 1: Act. 5 Makoto -...                     NaN   \n",
       "4  Sailor Moon Crystal: Season 1: Act. 4 Masquera...                     NaN   \n",
       "\n",
       "                                 Device Type  Bookmark  Latest Bookmark  \\\n",
       "0  Apple iPad Pro 11 in 3rd Gen (Wi-Fi) iPad  00:38:25         00:38:25   \n",
       "1  Apple iPad Pro 11 in 3rd Gen (Wi-Fi) iPad  00:28:07  Not latest view   \n",
       "2                                Apple TV 4K  00:03:11         00:03:11   \n",
       "3                                Apple TV 4K  00:22:26         00:22:26   \n",
       "4                                Apple TV 4K  00:22:26         00:22:26   \n",
       "\n",
       "              Country  \n",
       "0  US (United States)  \n",
       "1  US (United States)  \n",
       "2  US (United States)  \n",
       "3  US (United States)  \n",
       "4  US (United States)  "
      ]
     },
     "execution_count": 3,
     "metadata": {},
     "output_type": "execute_result"
    }
   ],
   "source": [
    "df.head()"
   ]
  },
  {
   "cell_type": "code",
   "execution_count": 4,
   "id": "e336d956",
   "metadata": {},
   "outputs": [
    {
     "data": {
      "text/html": [
       "<div>\n",
       "<style scoped>\n",
       "    .dataframe tbody tr th:only-of-type {\n",
       "        vertical-align: middle;\n",
       "    }\n",
       "\n",
       "    .dataframe tbody tr th {\n",
       "        vertical-align: top;\n",
       "    }\n",
       "\n",
       "    .dataframe thead th {\n",
       "        text-align: right;\n",
       "    }\n",
       "</style>\n",
       "<table border=\"1\" class=\"dataframe\">\n",
       "  <thead>\n",
       "    <tr style=\"text-align: right;\">\n",
       "      <th></th>\n",
       "      <th>Profile Name</th>\n",
       "      <th>Start Time</th>\n",
       "      <th>Duration</th>\n",
       "      <th>Attributes</th>\n",
       "      <th>Title</th>\n",
       "      <th>Supplemental Video Type</th>\n",
       "      <th>Device Type</th>\n",
       "      <th>Bookmark</th>\n",
       "      <th>Latest Bookmark</th>\n",
       "      <th>Country</th>\n",
       "    </tr>\n",
       "  </thead>\n",
       "  <tbody>\n",
       "    <tr>\n",
       "      <th>5939</th>\n",
       "      <td>John</td>\n",
       "      <td>2017-07-01 00:25:15</td>\n",
       "      <td>00:15:00</td>\n",
       "      <td>NaN</td>\n",
       "      <td>The Office (U.S.): Season 9: The Target (Episo...</td>\n",
       "      <td>NaN</td>\n",
       "      <td>Sony PS4</td>\n",
       "      <td>00:21:30</td>\n",
       "      <td>00:21:30</td>\n",
       "      <td>US (United States)</td>\n",
       "    </tr>\n",
       "    <tr>\n",
       "      <th>4575</th>\n",
       "      <td>John</td>\n",
       "      <td>2018-06-26 23:44:07</td>\n",
       "      <td>00:20:14</td>\n",
       "      <td>Autoplayed: user action: Unspecified;</td>\n",
       "      <td>Unbreakable Kimmy Schmidt: Season 3: Kimmy Get...</td>\n",
       "      <td>NaN</td>\n",
       "      <td>Sony PS4</td>\n",
       "      <td>00:28:31</td>\n",
       "      <td>00:28:31</td>\n",
       "      <td>US (United States)</td>\n",
       "    </tr>\n",
       "    <tr>\n",
       "      <th>15245</th>\n",
       "      <td>nita</td>\n",
       "      <td>2022-06-02 01:12:10</td>\n",
       "      <td>00:00:11</td>\n",
       "      <td>Autoplayed: user action: None;</td>\n",
       "      <td>Disappearance at Clifton Hill_hook_03_16x9</td>\n",
       "      <td>HOOK</td>\n",
       "      <td>Roku Bryan-2 Set Top Box</td>\n",
       "      <td>00:00:11</td>\n",
       "      <td>Not latest view</td>\n",
       "      <td>US (United States)</td>\n",
       "    </tr>\n",
       "    <tr>\n",
       "      <th>15298</th>\n",
       "      <td>nita</td>\n",
       "      <td>2022-05-24 20:32:42</td>\n",
       "      <td>01:40:10</td>\n",
       "      <td>NaN</td>\n",
       "      <td>Come Sunday</td>\n",
       "      <td>NaN</td>\n",
       "      <td>Roku Bryan-2 Set Top Box</td>\n",
       "      <td>01:40:12</td>\n",
       "      <td>01:40:12</td>\n",
       "      <td>US (United States)</td>\n",
       "    </tr>\n",
       "    <tr>\n",
       "      <th>8014</th>\n",
       "      <td>John</td>\n",
       "      <td>2016-08-08 20:44:45</td>\n",
       "      <td>00:31:10</td>\n",
       "      <td>NaN</td>\n",
       "      <td>The Killing: Season 4: The Good Soldier (Episo...</td>\n",
       "      <td>NaN</td>\n",
       "      <td>Sony PS4</td>\n",
       "      <td>00:55:35</td>\n",
       "      <td>00:55:35</td>\n",
       "      <td>US (United States)</td>\n",
       "    </tr>\n",
       "    <tr>\n",
       "      <th>13883</th>\n",
       "      <td>nita</td>\n",
       "      <td>2022-10-24 20:24:28</td>\n",
       "      <td>00:01:08</td>\n",
       "      <td>Autoplayed: user action: None;</td>\n",
       "      <td>Main Character Clip 2: From Scratch</td>\n",
       "      <td>HOOK</td>\n",
       "      <td>Roku Bryan-2 Set Top Box</td>\n",
       "      <td>00:01:08</td>\n",
       "      <td>Not latest view</td>\n",
       "      <td>US (United States)</td>\n",
       "    </tr>\n",
       "    <tr>\n",
       "      <th>2642</th>\n",
       "      <td>John</td>\n",
       "      <td>2020-06-19 21:11:05</td>\n",
       "      <td>00:18:18</td>\n",
       "      <td>NaN</td>\n",
       "      <td>Supergirl: Season 5: Immortal Kombat (Episode 19)</td>\n",
       "      <td>NaN</td>\n",
       "      <td>Apple TV 4K</td>\n",
       "      <td>00:42:19</td>\n",
       "      <td>Not latest view</td>\n",
       "      <td>US (United States)</td>\n",
       "    </tr>\n",
       "    <tr>\n",
       "      <th>5461</th>\n",
       "      <td>John</td>\n",
       "      <td>2017-09-10 23:05:45</td>\n",
       "      <td>00:00:13</td>\n",
       "      <td>Autoplayed: user action: None;</td>\n",
       "      <td>Dreamcatcher</td>\n",
       "      <td>NaN</td>\n",
       "      <td>Sony PS4</td>\n",
       "      <td>00:00:13</td>\n",
       "      <td>00:00:13</td>\n",
       "      <td>US (United States)</td>\n",
       "    </tr>\n",
       "    <tr>\n",
       "      <th>12345</th>\n",
       "      <td>nita</td>\n",
       "      <td>2023-04-04 01:12:41</td>\n",
       "      <td>00:00:44</td>\n",
       "      <td>Autoplayed: user action: None;</td>\n",
       "      <td>Limited Series Genre Specific Moment Clip: War...</td>\n",
       "      <td>HOOK</td>\n",
       "      <td>Roku Bryan-2 Set Top Box</td>\n",
       "      <td>00:00:44</td>\n",
       "      <td>Not latest view</td>\n",
       "      <td>US (United States)</td>\n",
       "    </tr>\n",
       "    <tr>\n",
       "      <th>10137</th>\n",
       "      <td>John</td>\n",
       "      <td>2015-01-04 06:47:19</td>\n",
       "      <td>00:20:38</td>\n",
       "      <td>NaN</td>\n",
       "      <td>Batman Beyond: Season 1: Rebirth: Part 1 (Epis...</td>\n",
       "      <td>NaN</td>\n",
       "      <td>Sony PS3</td>\n",
       "      <td>00:21:46</td>\n",
       "      <td>00:21:46</td>\n",
       "      <td>US (United States)</td>\n",
       "    </tr>\n",
       "  </tbody>\n",
       "</table>\n",
       "</div>"
      ],
      "text/plain": [
       "      Profile Name           Start Time  Duration  \\\n",
       "5939          John  2017-07-01 00:25:15  00:15:00   \n",
       "4575          John  2018-06-26 23:44:07  00:20:14   \n",
       "15245         nita  2022-06-02 01:12:10  00:00:11   \n",
       "15298         nita  2022-05-24 20:32:42  01:40:10   \n",
       "8014          John  2016-08-08 20:44:45  00:31:10   \n",
       "13883         nita  2022-10-24 20:24:28  00:01:08   \n",
       "2642          John  2020-06-19 21:11:05  00:18:18   \n",
       "5461          John  2017-09-10 23:05:45  00:00:13   \n",
       "12345         nita  2023-04-04 01:12:41  00:00:44   \n",
       "10137         John  2015-01-04 06:47:19  00:20:38   \n",
       "\n",
       "                                   Attributes  \\\n",
       "5939                                      NaN   \n",
       "4575   Autoplayed: user action: Unspecified;    \n",
       "15245         Autoplayed: user action: None;    \n",
       "15298                                     NaN   \n",
       "8014                                      NaN   \n",
       "13883         Autoplayed: user action: None;    \n",
       "2642                                      NaN   \n",
       "5461          Autoplayed: user action: None;    \n",
       "12345         Autoplayed: user action: None;    \n",
       "10137                                     NaN   \n",
       "\n",
       "                                                   Title  \\\n",
       "5939   The Office (U.S.): Season 9: The Target (Episo...   \n",
       "4575   Unbreakable Kimmy Schmidt: Season 3: Kimmy Get...   \n",
       "15245         Disappearance at Clifton Hill_hook_03_16x9   \n",
       "15298                                        Come Sunday   \n",
       "8014   The Killing: Season 4: The Good Soldier (Episo...   \n",
       "13883                Main Character Clip 2: From Scratch   \n",
       "2642   Supergirl: Season 5: Immortal Kombat (Episode 19)   \n",
       "5461                                        Dreamcatcher   \n",
       "12345  Limited Series Genre Specific Moment Clip: War...   \n",
       "10137  Batman Beyond: Season 1: Rebirth: Part 1 (Epis...   \n",
       "\n",
       "      Supplemental Video Type               Device Type  Bookmark  \\\n",
       "5939                      NaN                  Sony PS4  00:21:30   \n",
       "4575                      NaN                  Sony PS4  00:28:31   \n",
       "15245                    HOOK  Roku Bryan-2 Set Top Box  00:00:11   \n",
       "15298                     NaN  Roku Bryan-2 Set Top Box  01:40:12   \n",
       "8014                      NaN                  Sony PS4  00:55:35   \n",
       "13883                    HOOK  Roku Bryan-2 Set Top Box  00:01:08   \n",
       "2642                      NaN               Apple TV 4K  00:42:19   \n",
       "5461                      NaN                  Sony PS4  00:00:13   \n",
       "12345                    HOOK  Roku Bryan-2 Set Top Box  00:00:44   \n",
       "10137                     NaN                  Sony PS3  00:21:46   \n",
       "\n",
       "       Latest Bookmark             Country  \n",
       "5939          00:21:30  US (United States)  \n",
       "4575          00:28:31  US (United States)  \n",
       "15245  Not latest view  US (United States)  \n",
       "15298         01:40:12  US (United States)  \n",
       "8014          00:55:35  US (United States)  \n",
       "13883  Not latest view  US (United States)  \n",
       "2642   Not latest view  US (United States)  \n",
       "5461          00:00:13  US (United States)  \n",
       "12345  Not latest view  US (United States)  \n",
       "10137         00:21:46  US (United States)  "
      ]
     },
     "execution_count": 4,
     "metadata": {},
     "output_type": "execute_result"
    }
   ],
   "source": [
    "df.sample(10)"
   ]
  },
  {
   "cell_type": "code",
   "execution_count": 5,
   "id": "0937e757",
   "metadata": {},
   "outputs": [
    {
     "data": {
      "text/plain": [
       "array(['John', 'Kian', 'Kids', 'nita'], dtype=object)"
      ]
     },
     "execution_count": 5,
     "metadata": {},
     "output_type": "execute_result"
    }
   ],
   "source": [
    "df['Profile Name'].unique()"
   ]
  },
  {
   "cell_type": "code",
   "execution_count": 6,
   "id": "94e85db2",
   "metadata": {},
   "outputs": [
    {
     "data": {
      "text/plain": [
       "array(['Apple iPad Pro 11 in 3rd Gen (Wi-Fi) iPad', 'Apple TV 4K',\n",
       "       'Apple iPhone 13 Pro Max', 'LG DTV 2021 MTK LM21A UHD TV Smart TV',\n",
       "       'Safari MAC (Cadmium)', 'Apple iPhone 11 Pro Max',\n",
       "       'Verizon Fios VMS MVPD STB', 'Sony PS4',\n",
       "       'Google Chromecast V3 Streaming Stick',\n",
       "       'Apple iPhone 8 Plus (GSM)',\n",
       "       'Netflix Windows App - Cadmium Windows Mobile',\n",
       "       'DefaultWidevineAndroidPhone', 'Windows 8 x64 devices', 'Sony PS3',\n",
       "       'Mobile', 'Roku Bryan-2 Set Top Box', 'Roku Athens HDR Smart TV',\n",
       "       'Verizon Fios IPC MVPD STB'], dtype=object)"
      ]
     },
     "execution_count": 6,
     "metadata": {},
     "output_type": "execute_result"
    }
   ],
   "source": [
    "df['Device Type'].unique()"
   ]
  },
  {
   "cell_type": "code",
   "execution_count": 7,
   "id": "a18b3ef0",
   "metadata": {},
   "outputs": [
    {
     "data": {
      "text/plain": [
       "Profile Name               object\n",
       "Start Time                 object\n",
       "Duration                   object\n",
       "Attributes                 object\n",
       "Title                      object\n",
       "Supplemental Video Type    object\n",
       "Device Type                object\n",
       "Bookmark                   object\n",
       "Latest Bookmark            object\n",
       "Country                    object\n",
       "dtype: object"
      ]
     },
     "execution_count": 7,
     "metadata": {},
     "output_type": "execute_result"
    }
   ],
   "source": [
    "df.dtypes"
   ]
  },
  {
   "cell_type": "code",
   "execution_count": 8,
   "id": "24331112",
   "metadata": {},
   "outputs": [
    {
     "data": {
      "text/plain": [
       "Profile Name                            object\n",
       "Start Time                 datetime64[ns, UTC]\n",
       "Duration                       timedelta64[ns]\n",
       "Attributes                              object\n",
       "Title                                   object\n",
       "Supplemental Video Type                 object\n",
       "Device Type                             object\n",
       "Bookmark                                object\n",
       "Latest Bookmark                         object\n",
       "Country                                 object\n",
       "dtype: object"
      ]
     },
     "execution_count": 8,
     "metadata": {},
     "output_type": "execute_result"
    }
   ],
   "source": [
    "df['Start Time'] = pd.to_datetime(df['Start Time'], utc=True)\n",
    "df['Duration'] = pd.to_timedelta(df['Duration'])\n",
    "df.dtypes"
   ]
  },
  {
   "cell_type": "code",
   "execution_count": 9,
   "id": "6e874142",
   "metadata": {},
   "outputs": [
    {
     "data": {
      "text/html": [
       "<div>\n",
       "<style scoped>\n",
       "    .dataframe tbody tr th:only-of-type {\n",
       "        vertical-align: middle;\n",
       "    }\n",
       "\n",
       "    .dataframe tbody tr th {\n",
       "        vertical-align: top;\n",
       "    }\n",
       "\n",
       "    .dataframe thead th {\n",
       "        text-align: right;\n",
       "    }\n",
       "</style>\n",
       "<table border=\"1\" class=\"dataframe\">\n",
       "  <thead>\n",
       "    <tr style=\"text-align: right;\">\n",
       "      <th></th>\n",
       "      <th>Profile Name</th>\n",
       "      <th>Start Time</th>\n",
       "      <th>Duration</th>\n",
       "      <th>Attributes</th>\n",
       "      <th>Title</th>\n",
       "      <th>Supplemental Video Type</th>\n",
       "      <th>Device Type</th>\n",
       "      <th>Bookmark</th>\n",
       "      <th>Latest Bookmark</th>\n",
       "      <th>Country</th>\n",
       "    </tr>\n",
       "  </thead>\n",
       "  <tbody>\n",
       "    <tr>\n",
       "      <th>8547</th>\n",
       "      <td>John</td>\n",
       "      <td>2016-03-26 17:36:52+00:00</td>\n",
       "      <td>0 days 00:24:48</td>\n",
       "      <td>NaN</td>\n",
       "      <td>The Boondocks: Season 3: It's Goin' Down (Epis...</td>\n",
       "      <td>NaN</td>\n",
       "      <td>Sony PS4</td>\n",
       "      <td>00:22:24</td>\n",
       "      <td>00:22:24</td>\n",
       "      <td>US (United States)</td>\n",
       "    </tr>\n",
       "    <tr>\n",
       "      <th>18157</th>\n",
       "      <td>nita</td>\n",
       "      <td>2021-06-26 01:34:41+00:00</td>\n",
       "      <td>0 days 00:00:19</td>\n",
       "      <td>Autoplayed: user action: None;</td>\n",
       "      <td>Lowriders_hook_03_16x9</td>\n",
       "      <td>HOOK</td>\n",
       "      <td>Roku Bryan-2 Set Top Box</td>\n",
       "      <td>00:00:19</td>\n",
       "      <td>Not latest view</td>\n",
       "      <td>US (United States)</td>\n",
       "    </tr>\n",
       "    <tr>\n",
       "      <th>2661</th>\n",
       "      <td>John</td>\n",
       "      <td>2020-06-17 18:43:16+00:00</td>\n",
       "      <td>0 days 00:32:50</td>\n",
       "      <td>NaN</td>\n",
       "      <td>The Umbrella Academy: Season 1: Man on the Moo...</td>\n",
       "      <td>NaN</td>\n",
       "      <td>Safari MAC (Cadmium)</td>\n",
       "      <td>00:55:05</td>\n",
       "      <td>00:55:05</td>\n",
       "      <td>US (United States)</td>\n",
       "    </tr>\n",
       "    <tr>\n",
       "      <th>5167</th>\n",
       "      <td>John</td>\n",
       "      <td>2017-10-17 17:42:50+00:00</td>\n",
       "      <td>0 days 00:35:21</td>\n",
       "      <td>Autoplayed: user action: Unspecified;</td>\n",
       "      <td>Manhunt: Unabomber: UNABOM (Episode 1)</td>\n",
       "      <td>NaN</td>\n",
       "      <td>Sony PS4</td>\n",
       "      <td>00:42:03</td>\n",
       "      <td>00:42:03</td>\n",
       "      <td>US (United States)</td>\n",
       "    </tr>\n",
       "    <tr>\n",
       "      <th>13471</th>\n",
       "      <td>nita</td>\n",
       "      <td>2022-12-22 20:16:20+00:00</td>\n",
       "      <td>0 days 03:00:36</td>\n",
       "      <td>NaN</td>\n",
       "      <td>RRR (Hindi)</td>\n",
       "      <td>NaN</td>\n",
       "      <td>Roku Bryan-2 Set Top Box</td>\n",
       "      <td>03:00:37</td>\n",
       "      <td>03:00:37</td>\n",
       "      <td>US (United States)</td>\n",
       "    </tr>\n",
       "    <tr>\n",
       "      <th>19361</th>\n",
       "      <td>nita</td>\n",
       "      <td>2019-08-13 20:59:54+00:00</td>\n",
       "      <td>0 days 00:41:28</td>\n",
       "      <td>Autoplayed: user action: None;</td>\n",
       "      <td>La esclava blanca: Season 1: Episode 24</td>\n",
       "      <td>NaN</td>\n",
       "      <td>Verizon Fios VMS MVPD STB</td>\n",
       "      <td>00:42:27</td>\n",
       "      <td>00:42:27</td>\n",
       "      <td>US (United States)</td>\n",
       "    </tr>\n",
       "    <tr>\n",
       "      <th>5847</th>\n",
       "      <td>John</td>\n",
       "      <td>2017-07-13 20:51:17+00:00</td>\n",
       "      <td>0 days 00:11:07</td>\n",
       "      <td>NaN</td>\n",
       "      <td>New Girl: Season 4: Oregon (Episode 16)</td>\n",
       "      <td>NaN</td>\n",
       "      <td>Sony PS4</td>\n",
       "      <td>00:21:48</td>\n",
       "      <td>00:21:48</td>\n",
       "      <td>US (United States)</td>\n",
       "    </tr>\n",
       "    <tr>\n",
       "      <th>16472</th>\n",
       "      <td>nita</td>\n",
       "      <td>2021-12-27 01:27:00+00:00</td>\n",
       "      <td>0 days 00:00:22</td>\n",
       "      <td>Autoplayed: user action: None;</td>\n",
       "      <td>Klaus (Clip Supporting Character)</td>\n",
       "      <td>HOOK</td>\n",
       "      <td>Roku Bryan-2 Set Top Box</td>\n",
       "      <td>00:00:22</td>\n",
       "      <td>00:00:22</td>\n",
       "      <td>US (United States)</td>\n",
       "    </tr>\n",
       "    <tr>\n",
       "      <th>12894</th>\n",
       "      <td>nita</td>\n",
       "      <td>2023-02-13 21:54:01+00:00</td>\n",
       "      <td>0 days 00:00:58</td>\n",
       "      <td>Autoplayed: user action: None;</td>\n",
       "      <td>Lyle, Lyle, Crocodile_hook_primary_16x9</td>\n",
       "      <td>HOOK</td>\n",
       "      <td>Roku Bryan-2 Set Top Box</td>\n",
       "      <td>00:00:58</td>\n",
       "      <td>00:00:58</td>\n",
       "      <td>US (United States)</td>\n",
       "    </tr>\n",
       "    <tr>\n",
       "      <th>15383</th>\n",
       "      <td>nita</td>\n",
       "      <td>2022-05-19 21:18:48+00:00</td>\n",
       "      <td>0 days 00:00:50</td>\n",
       "      <td>Autoplayed: user action: None;</td>\n",
       "      <td>Season 1 Teaser 2: 42 días en la oscuridad</td>\n",
       "      <td>TEASER_TRAILER</td>\n",
       "      <td>Roku Bryan-2 Set Top Box</td>\n",
       "      <td>00:00:50</td>\n",
       "      <td>Not latest view</td>\n",
       "      <td>US (United States)</td>\n",
       "    </tr>\n",
       "  </tbody>\n",
       "</table>\n",
       "</div>"
      ],
      "text/plain": [
       "      Profile Name                Start Time        Duration  \\\n",
       "8547          John 2016-03-26 17:36:52+00:00 0 days 00:24:48   \n",
       "18157         nita 2021-06-26 01:34:41+00:00 0 days 00:00:19   \n",
       "2661          John 2020-06-17 18:43:16+00:00 0 days 00:32:50   \n",
       "5167          John 2017-10-17 17:42:50+00:00 0 days 00:35:21   \n",
       "13471         nita 2022-12-22 20:16:20+00:00 0 days 03:00:36   \n",
       "19361         nita 2019-08-13 20:59:54+00:00 0 days 00:41:28   \n",
       "5847          John 2017-07-13 20:51:17+00:00 0 days 00:11:07   \n",
       "16472         nita 2021-12-27 01:27:00+00:00 0 days 00:00:22   \n",
       "12894         nita 2023-02-13 21:54:01+00:00 0 days 00:00:58   \n",
       "15383         nita 2022-05-19 21:18:48+00:00 0 days 00:00:50   \n",
       "\n",
       "                                   Attributes  \\\n",
       "8547                                      NaN   \n",
       "18157         Autoplayed: user action: None;    \n",
       "2661                                      NaN   \n",
       "5167   Autoplayed: user action: Unspecified;    \n",
       "13471                                     NaN   \n",
       "19361         Autoplayed: user action: None;    \n",
       "5847                                      NaN   \n",
       "16472         Autoplayed: user action: None;    \n",
       "12894         Autoplayed: user action: None;    \n",
       "15383         Autoplayed: user action: None;    \n",
       "\n",
       "                                                   Title  \\\n",
       "8547   The Boondocks: Season 3: It's Goin' Down (Epis...   \n",
       "18157                             Lowriders_hook_03_16x9   \n",
       "2661   The Umbrella Academy: Season 1: Man on the Moo...   \n",
       "5167              Manhunt: Unabomber: UNABOM (Episode 1)   \n",
       "13471                                        RRR (Hindi)   \n",
       "19361            La esclava blanca: Season 1: Episode 24   \n",
       "5847             New Girl: Season 4: Oregon (Episode 16)   \n",
       "16472                  Klaus (Clip Supporting Character)   \n",
       "12894            Lyle, Lyle, Crocodile_hook_primary_16x9   \n",
       "15383         Season 1 Teaser 2: 42 días en la oscuridad   \n",
       "\n",
       "      Supplemental Video Type                Device Type  Bookmark  \\\n",
       "8547                      NaN                   Sony PS4  00:22:24   \n",
       "18157                    HOOK   Roku Bryan-2 Set Top Box  00:00:19   \n",
       "2661                      NaN       Safari MAC (Cadmium)  00:55:05   \n",
       "5167                      NaN                   Sony PS4  00:42:03   \n",
       "13471                     NaN   Roku Bryan-2 Set Top Box  03:00:37   \n",
       "19361                     NaN  Verizon Fios VMS MVPD STB  00:42:27   \n",
       "5847                      NaN                   Sony PS4  00:21:48   \n",
       "16472                    HOOK   Roku Bryan-2 Set Top Box  00:00:22   \n",
       "12894                    HOOK   Roku Bryan-2 Set Top Box  00:00:58   \n",
       "15383          TEASER_TRAILER   Roku Bryan-2 Set Top Box  00:00:50   \n",
       "\n",
       "       Latest Bookmark             Country  \n",
       "8547          00:22:24  US (United States)  \n",
       "18157  Not latest view  US (United States)  \n",
       "2661          00:55:05  US (United States)  \n",
       "5167          00:42:03  US (United States)  \n",
       "13471         03:00:37  US (United States)  \n",
       "19361         00:42:27  US (United States)  \n",
       "5847          00:21:48  US (United States)  \n",
       "16472         00:00:22  US (United States)  \n",
       "12894         00:00:58  US (United States)  \n",
       "15383  Not latest view  US (United States)  "
      ]
     },
     "execution_count": 9,
     "metadata": {},
     "output_type": "execute_result"
    }
   ],
   "source": [
    "df.sample(10)"
   ]
  },
  {
   "cell_type": "code",
   "execution_count": 10,
   "id": "05fbe76b",
   "metadata": {},
   "outputs": [],
   "source": [
    "# Which profiles has the most watching activities?"
   ]
  },
  {
   "cell_type": "code",
   "execution_count": 11,
   "id": "1b72ecdc",
   "metadata": {},
   "outputs": [
    {
     "data": {
      "text/plain": [
       "John    10436\n",
       "nita     9411\n",
       "Kids      289\n",
       "Kian      144\n",
       "Name: Profile Name, dtype: int64"
      ]
     },
     "execution_count": 11,
     "metadata": {},
     "output_type": "execute_result"
    }
   ],
   "source": [
    "df['Profile Name'].value_counts()"
   ]
  },
  {
   "cell_type": "code",
   "execution_count": 12,
   "id": "2277e8ce",
   "metadata": {},
   "outputs": [
    {
     "data": {
      "text/plain": [
       "<function matplotlib.pyplot.show(close=None, block=None)>"
      ]
     },
     "execution_count": 12,
     "metadata": {},
     "output_type": "execute_result"
    },
    {
     "data": {
      "image/png": "[encoded data removed]",
      "text/plain": [
       "<Figure size 640x480 with 1 Axes>"
      ]
     },
     "metadata": {},
     "output_type": "display_data"
    }
   ],
   "source": [
    "%matplotlib inline\n",
    "import matplotlib\n",
    "import matplotlib.pyplot as plt\n",
    "df['Profile Name'].value_counts().plot(kind = 'bar')\n",
    "plt.show"
   ]
  },
  {
   "cell_type": "code",
   "execution_count": 13,
   "id": "4ea9c7ee",
   "metadata": {},
   "outputs": [],
   "source": [
    "# Which profile watched the most?"
   ]
  },
  {
   "cell_type": "code",
   "execution_count": 14,
   "id": "2467c097",
   "metadata": {},
   "outputs": [
    {
     "data": {
      "text/plain": [
       "Timedelta('246 days 20:48:59')"
      ]
     },
     "execution_count": 14,
     "metadata": {},
     "output_type": "execute_result"
    }
   ],
   "source": [
    "df['Duration'].sum()"
   ]
  },
  {
   "cell_type": "code",
   "execution_count": 15,
   "id": "18d69a95",
   "metadata": {},
   "outputs": [
    {
     "data": {
      "text/html": [
       "<div>\n",
       "<style scoped>\n",
       "    .dataframe tbody tr th:only-of-type {\n",
       "        vertical-align: middle;\n",
       "    }\n",
       "\n",
       "    .dataframe tbody tr th {\n",
       "        vertical-align: top;\n",
       "    }\n",
       "\n",
       "    .dataframe thead th {\n",
       "        text-align: right;\n",
       "    }\n",
       "</style>\n",
       "<table border=\"1\" class=\"dataframe\">\n",
       "  <thead>\n",
       "    <tr style=\"text-align: right;\">\n",
       "      <th></th>\n",
       "      <th>Profile Name</th>\n",
       "      <th>Start Time</th>\n",
       "      <th>Duration</th>\n",
       "      <th>Attributes</th>\n",
       "      <th>Title</th>\n",
       "      <th>Supplemental Video Type</th>\n",
       "      <th>Device Type</th>\n",
       "      <th>Bookmark</th>\n",
       "      <th>Latest Bookmark</th>\n",
       "      <th>Country</th>\n",
       "    </tr>\n",
       "  </thead>\n",
       "  <tbody>\n",
       "    <tr>\n",
       "      <th>10435</th>\n",
       "      <td>John</td>\n",
       "      <td>2014-08-26 04:08:48+00:00</td>\n",
       "      <td>0 days 02:16:56</td>\n",
       "      <td>NaN</td>\n",
       "      <td>The Avengers</td>\n",
       "      <td>NaN</td>\n",
       "      <td>Sony PS3</td>\n",
       "      <td>02:16:03</td>\n",
       "      <td>Not latest view</td>\n",
       "      <td>US (United States)</td>\n",
       "    </tr>\n",
       "    <tr>\n",
       "      <th>10434</th>\n",
       "      <td>John</td>\n",
       "      <td>2014-08-26 16:27:43+00:00</td>\n",
       "      <td>0 days 00:36:04</td>\n",
       "      <td>NaN</td>\n",
       "      <td>The Avengers</td>\n",
       "      <td>NaN</td>\n",
       "      <td>Sony PS3</td>\n",
       "      <td>02:22:56</td>\n",
       "      <td>02:22:56</td>\n",
       "      <td>US (United States)</td>\n",
       "    </tr>\n",
       "    <tr>\n",
       "      <th>10433</th>\n",
       "      <td>John</td>\n",
       "      <td>2014-08-26 17:41:13+00:00</td>\n",
       "      <td>0 days 00:56:42</td>\n",
       "      <td>NaN</td>\n",
       "      <td>Breaking Bad: Season 1: Pilot (Episode 1)</td>\n",
       "      <td>NaN</td>\n",
       "      <td>Sony PS3</td>\n",
       "      <td>00:57:20</td>\n",
       "      <td>Not latest view</td>\n",
       "      <td>US (United States)</td>\n",
       "    </tr>\n",
       "    <tr>\n",
       "      <th>10432</th>\n",
       "      <td>John</td>\n",
       "      <td>2014-08-26 18:41:33+00:00</td>\n",
       "      <td>0 days 00:48:19</td>\n",
       "      <td>NaN</td>\n",
       "      <td>Breaking Bad: Season 1: The Cat's in the Bag (...</td>\n",
       "      <td>NaN</td>\n",
       "      <td>Sony PS3</td>\n",
       "      <td>00:48:19</td>\n",
       "      <td>00:48:19</td>\n",
       "      <td>US (United States)</td>\n",
       "    </tr>\n",
       "    <tr>\n",
       "      <th>10431</th>\n",
       "      <td>John</td>\n",
       "      <td>2014-08-26 19:30:38+00:00</td>\n",
       "      <td>0 days 00:47:53</td>\n",
       "      <td>NaN</td>\n",
       "      <td>Breaking Bad: Season 1: And the Bag's in the R...</td>\n",
       "      <td>NaN</td>\n",
       "      <td>Sony PS3</td>\n",
       "      <td>00:47:34</td>\n",
       "      <td>00:47:34</td>\n",
       "      <td>US (United States)</td>\n",
       "    </tr>\n",
       "    <tr>\n",
       "      <th>...</th>\n",
       "      <td>...</td>\n",
       "      <td>...</td>\n",
       "      <td>...</td>\n",
       "      <td>...</td>\n",
       "      <td>...</td>\n",
       "      <td>...</td>\n",
       "      <td>...</td>\n",
       "      <td>...</td>\n",
       "      <td>...</td>\n",
       "      <td>...</td>\n",
       "    </tr>\n",
       "    <tr>\n",
       "      <th>10873</th>\n",
       "      <td>nita</td>\n",
       "      <td>2023-10-16 21:04:30+00:00</td>\n",
       "      <td>0 days 00:00:24</td>\n",
       "      <td>Autoplayed: user action: None;</td>\n",
       "      <td>Genre Specific Clip 2: Sweet Girl</td>\n",
       "      <td>HOOK</td>\n",
       "      <td>Roku Athens HDR Smart TV</td>\n",
       "      <td>00:00:24</td>\n",
       "      <td>00:00:24</td>\n",
       "      <td>US (United States)</td>\n",
       "    </tr>\n",
       "    <tr>\n",
       "      <th>10872</th>\n",
       "      <td>nita</td>\n",
       "      <td>2023-10-16 21:04:57+00:00</td>\n",
       "      <td>0 days 00:00:15</td>\n",
       "      <td>Autoplayed: user action: None;</td>\n",
       "      <td>Safe_hook_primary_16x9</td>\n",
       "      <td>HOOK</td>\n",
       "      <td>Roku Athens HDR Smart TV</td>\n",
       "      <td>00:00:15</td>\n",
       "      <td>00:00:15</td>\n",
       "      <td>US (United States)</td>\n",
       "    </tr>\n",
       "    <tr>\n",
       "      <th>10871</th>\n",
       "      <td>nita</td>\n",
       "      <td>2023-10-16 21:05:14+00:00</td>\n",
       "      <td>0 days 00:00:13</td>\n",
       "      <td>Autoplayed: user action: None;</td>\n",
       "      <td>Elysium_hook_primary_16x9</td>\n",
       "      <td>HOOK</td>\n",
       "      <td>Roku Athens HDR Smart TV</td>\n",
       "      <td>00:00:13</td>\n",
       "      <td>00:00:13</td>\n",
       "      <td>US (United States)</td>\n",
       "    </tr>\n",
       "    <tr>\n",
       "      <th>10870</th>\n",
       "      <td>nita</td>\n",
       "      <td>2023-10-16 21:05:42+00:00</td>\n",
       "      <td>0 days 00:00:21</td>\n",
       "      <td>Autoplayed: user action: None;</td>\n",
       "      <td>Villain / Antagonist Clip: The Harder They Fall</td>\n",
       "      <td>HOOK</td>\n",
       "      <td>Roku Athens HDR Smart TV</td>\n",
       "      <td>00:00:21</td>\n",
       "      <td>00:00:21</td>\n",
       "      <td>US (United States)</td>\n",
       "    </tr>\n",
       "    <tr>\n",
       "      <th>10869</th>\n",
       "      <td>nita</td>\n",
       "      <td>2023-10-16 21:06:06+00:00</td>\n",
       "      <td>0 days 00:08:13</td>\n",
       "      <td>NaN</td>\n",
       "      <td>The Harder They Fall</td>\n",
       "      <td>NaN</td>\n",
       "      <td>Roku Athens HDR Smart TV</td>\n",
       "      <td>00:08:13</td>\n",
       "      <td>00:08:13</td>\n",
       "      <td>US (United States)</td>\n",
       "    </tr>\n",
       "  </tbody>\n",
       "</table>\n",
       "<p>20280 rows × 10 columns</p>\n",
       "</div>"
      ],
      "text/plain": [
       "      Profile Name                Start Time        Duration  \\\n",
       "10435         John 2014-08-26 04:08:48+00:00 0 days 02:16:56   \n",
       "10434         John 2014-08-26 16:27:43+00:00 0 days 00:36:04   \n",
       "10433         John 2014-08-26 17:41:13+00:00 0 days 00:56:42   \n",
       "10432         John 2014-08-26 18:41:33+00:00 0 days 00:48:19   \n",
       "10431         John 2014-08-26 19:30:38+00:00 0 days 00:47:53   \n",
       "...            ...                       ...             ...   \n",
       "10873         nita 2023-10-16 21:04:30+00:00 0 days 00:00:24   \n",
       "10872         nita 2023-10-16 21:04:57+00:00 0 days 00:00:15   \n",
       "10871         nita 2023-10-16 21:05:14+00:00 0 days 00:00:13   \n",
       "10870         nita 2023-10-16 21:05:42+00:00 0 days 00:00:21   \n",
       "10869         nita 2023-10-16 21:06:06+00:00 0 days 00:08:13   \n",
       "\n",
       "                            Attributes  \\\n",
       "10435                              NaN   \n",
       "10434                              NaN   \n",
       "10433                              NaN   \n",
       "10432                              NaN   \n",
       "10431                              NaN   \n",
       "...                                ...   \n",
       "10873  Autoplayed: user action: None;    \n",
       "10872  Autoplayed: user action: None;    \n",
       "10871  Autoplayed: user action: None;    \n",
       "10870  Autoplayed: user action: None;    \n",
       "10869                              NaN   \n",
       "\n",
       "                                                   Title  \\\n",
       "10435                                       The Avengers   \n",
       "10434                                       The Avengers   \n",
       "10433          Breaking Bad: Season 1: Pilot (Episode 1)   \n",
       "10432  Breaking Bad: Season 1: The Cat's in the Bag (...   \n",
       "10431  Breaking Bad: Season 1: And the Bag's in the R...   \n",
       "...                                                  ...   \n",
       "10873                  Genre Specific Clip 2: Sweet Girl   \n",
       "10872                             Safe_hook_primary_16x9   \n",
       "10871                          Elysium_hook_primary_16x9   \n",
       "10870    Villain / Antagonist Clip: The Harder They Fall   \n",
       "10869                               The Harder They Fall   \n",
       "\n",
       "      Supplemental Video Type               Device Type  Bookmark  \\\n",
       "10435                     NaN                  Sony PS3  02:16:03   \n",
       "10434                     NaN                  Sony PS3  02:22:56   \n",
       "10433                     NaN                  Sony PS3  00:57:20   \n",
       "10432                     NaN                  Sony PS3  00:48:19   \n",
       "10431                     NaN                  Sony PS3  00:47:34   \n",
       "...                       ...                       ...       ...   \n",
       "10873                    HOOK  Roku Athens HDR Smart TV  00:00:24   \n",
       "10872                    HOOK  Roku Athens HDR Smart TV  00:00:15   \n",
       "10871                    HOOK  Roku Athens HDR Smart TV  00:00:13   \n",
       "10870                    HOOK  Roku Athens HDR Smart TV  00:00:21   \n",
       "10869                     NaN  Roku Athens HDR Smart TV  00:08:13   \n",
       "\n",
       "       Latest Bookmark             Country  \n",
       "10435  Not latest view  US (United States)  \n",
       "10434         02:22:56  US (United States)  \n",
       "10433  Not latest view  US (United States)  \n",
       "10432         00:48:19  US (United States)  \n",
       "10431         00:47:34  US (United States)  \n",
       "...                ...                 ...  \n",
       "10873         00:00:24  US (United States)  \n",
       "10872         00:00:15  US (United States)  \n",
       "10871         00:00:13  US (United States)  \n",
       "10870         00:00:21  US (United States)  \n",
       "10869         00:08:13  US (United States)  \n",
       "\n",
       "[20280 rows x 10 columns]"
      ]
     },
     "execution_count": 15,
     "metadata": {},
     "output_type": "execute_result"
    }
   ],
   "source": [
    "df.sort_values('Start Time')"
   ]
  },
  {
   "cell_type": "code",
   "execution_count": 16,
   "id": "694a4668",
   "metadata": {},
   "outputs": [
    {
     "data": {
      "text/plain": [
       "Timedelta('122 days 02:03:43')"
      ]
     },
     "execution_count": 16,
     "metadata": {},
     "output_type": "execute_result"
    }
   ],
   "source": [
    "df.loc[df['Profile Name']=='John','Duration'].sum()\n"
   ]
  },
  {
   "cell_type": "code",
   "execution_count": 17,
   "id": "200dfbe9",
   "metadata": {},
   "outputs": [
    {
     "data": {
      "text/plain": [
       "Timedelta('119 days 09:07:54')"
      ]
     },
     "execution_count": 17,
     "metadata": {},
     "output_type": "execute_result"
    }
   ],
   "source": [
    "df.loc[df['Profile Name']=='nita','Duration'].sum()\n"
   ]
  },
  {
   "cell_type": "code",
   "execution_count": 18,
   "id": "d96f428d",
   "metadata": {},
   "outputs": [
    {
     "data": {
      "text/plain": [
       "Timedelta('2 days 12:19:45')"
      ]
     },
     "execution_count": 18,
     "metadata": {},
     "output_type": "execute_result"
    }
   ],
   "source": [
    "df.loc[df['Profile Name']=='Kian','Duration'].sum()\n"
   ]
  },
  {
   "cell_type": "code",
   "execution_count": 19,
   "id": "3c5ed757",
   "metadata": {},
   "outputs": [
    {
     "data": {
      "text/plain": [
       "Timedelta('2 days 21:17:37')"
      ]
     },
     "execution_count": 19,
     "metadata": {},
     "output_type": "execute_result"
    }
   ],
   "source": [
    "df.loc[df['Profile Name']=='Kids','Duration'].sum()\n"
   ]
  },
  {
   "cell_type": "code",
   "execution_count": 20,
   "id": "8d36b6ba",
   "metadata": {},
   "outputs": [
    {
     "data": {
      "text/plain": [
       "10548223.0"
      ]
     },
     "execution_count": 20,
     "metadata": {},
     "output_type": "execute_result"
    }
   ],
   "source": [
    "df.loc[df[\"Profile Name\"] == 'John', 'Duration'].astype('timedelta64[s]').sum()"
   ]
  },
  {
   "cell_type": "code",
   "execution_count": 21,
   "id": "e2eaa9d3",
   "metadata": {},
   "outputs": [
    {
     "data": {
      "text/plain": [
       "{'John': 10548223.0, 'nita': 10314474.0, 'Kian': 217185.0, 'Kids': 249457.0}"
      ]
     },
     "execution_count": 21,
     "metadata": {},
     "output_type": "execute_result"
    }
   ],
   "source": [
    "viewTime = {}\n",
    "viewTime.update({'John': df.loc[df[\"Profile Name\"] == 'John', 'Duration'].astype('timedelta64[s]').sum()})\n",
    "viewTime.update({'nita': df.loc[df[\"Profile Name\"] == 'nita', 'Duration'].astype('timedelta64[s]').sum()})\n",
    "viewTime.update({'Kian': df.loc[df[\"Profile Name\"] == 'Kian', 'Duration'].astype('timedelta64[s]').sum()})\n",
    "viewTime.update({'Kids': df.loc[df[\"Profile Name\"] == 'Kids', 'Duration'].astype('timedelta64[s]').sum()})\n",
    "viewTime"
   ]
  },
  {
   "cell_type": "code",
   "execution_count": 22,
   "id": "dce5aa56",
   "metadata": {},
   "outputs": [
    {
     "data": {
      "text/plain": [
       "<function matplotlib.pyplot.show(close=None, block=None)>"
      ]
     },
     "execution_count": 22,
     "metadata": {},
     "output_type": "execute_result"
    },
    {
     "data": {
      "image/png": "[encoded data removed]",
      "text/plain": [
       "<Figure size 640x480 with 1 Axes>"
      ]
     },
     "metadata": {},
     "output_type": "display_data"
    }
   ],
   "source": [
    "%matplotlib inline\n",
    "import matplotlib\n",
    "import matplotlib.pyplot as plt\n",
    "plt.bar(*zip(*viewTime.items()))\n",
    "plt.show"
   ]
  },
  {
   "cell_type": "code",
   "execution_count": 23,
   "id": "58eccaba",
   "metadata": {},
   "outputs": [],
   "source": [
    "# What is the average watch time time (Per Profile)? "
   ]
  },
  {
   "cell_type": "code",
   "execution_count": 24,
   "id": "3bd5e2f7",
   "metadata": {},
   "outputs": [
    {
     "data": {
      "text/plain": [
       "John    10436\n",
       "nita     9411\n",
       "Kids      289\n",
       "Kian      144\n",
       "Name: Profile Name, dtype: int64"
      ]
     },
     "execution_count": 24,
     "metadata": {},
     "output_type": "execute_result"
    }
   ],
   "source": [
    "df['Profile Name'].value_counts()"
   ]
  },
  {
   "cell_type": "code",
   "execution_count": 25,
   "id": "c35afc88",
   "metadata": {},
   "outputs": [
    {
     "data": {
      "text/plain": [
       "Timedelta('0 days 00:16:50.753449597')"
      ]
     },
     "execution_count": 25,
     "metadata": {},
     "output_type": "execute_result"
    }
   ],
   "source": [
    "df.loc[df['Profile Name']=='John','Duration'].sum()/10436\n"
   ]
  },
  {
   "cell_type": "code",
   "execution_count": 26,
   "id": "8bb0d171",
   "metadata": {},
   "outputs": [
    {
     "data": {
      "text/plain": [
       "Timedelta('0 days 00:18:16.001912655')"
      ]
     },
     "execution_count": 26,
     "metadata": {},
     "output_type": "execute_result"
    }
   ],
   "source": [
    "df.loc[df['Profile Name']=='nita','Duration'].sum()/9411\n"
   ]
  },
  {
   "cell_type": "code",
   "execution_count": 27,
   "id": "b08856e0",
   "metadata": {},
   "outputs": [
    {
     "data": {
      "text/plain": [
       "Timedelta('0 days 00:25:08.229166666')"
      ]
     },
     "execution_count": 27,
     "metadata": {},
     "output_type": "execute_result"
    }
   ],
   "source": [
    "df.loc[df['Profile Name']=='Kian','Duration'].sum()/144\n"
   ]
  },
  {
   "cell_type": "code",
   "execution_count": 28,
   "id": "f0aeae92",
   "metadata": {},
   "outputs": [
    {
     "data": {
      "text/plain": [
       "Timedelta('0 days 00:00:23.903507090')"
      ]
     },
     "execution_count": 28,
     "metadata": {},
     "output_type": "execute_result"
    }
   ],
   "source": [
    "df.loc[df['Profile Name']=='Kids','Duration'].sum()/10436\n"
   ]
  },
  {
   "cell_type": "code",
   "execution_count": 29,
   "id": "9dda4c0b",
   "metadata": {},
   "outputs": [
    {
     "data": {
      "text/plain": [
       "HOOK              3809\n",
       "TRAILER           2675\n",
       "TEASER_TRAILER     253\n",
       "RECAP               23\n",
       "PREVIEW              4\n",
       "Name: Supplemental Video Type, dtype: int64"
      ]
     },
     "execution_count": 29,
     "metadata": {},
     "output_type": "execute_result"
    }
   ],
   "source": [
    "df['Supplemental Video Type'].value_counts()"
   ]
  },
  {
   "cell_type": "code",
   "execution_count": 30,
   "id": "9fac2f8d",
   "metadata": {
    "scrolled": true
   },
   "outputs": [
    {
     "data": {
      "text/html": [
       "<div>\n",
       "<style scoped>\n",
       "    .dataframe tbody tr th:only-of-type {\n",
       "        vertical-align: middle;\n",
       "    }\n",
       "\n",
       "    .dataframe tbody tr th {\n",
       "        vertical-align: top;\n",
       "    }\n",
       "\n",
       "    .dataframe thead th {\n",
       "        text-align: right;\n",
       "    }\n",
       "</style>\n",
       "<table border=\"1\" class=\"dataframe\">\n",
       "  <thead>\n",
       "    <tr style=\"text-align: right;\">\n",
       "      <th></th>\n",
       "      <th>Profile Name</th>\n",
       "      <th>Start Time</th>\n",
       "      <th>Duration</th>\n",
       "      <th>Attributes</th>\n",
       "      <th>Title</th>\n",
       "      <th>Supplemental Video Type</th>\n",
       "      <th>Device Type</th>\n",
       "      <th>Bookmark</th>\n",
       "      <th>Latest Bookmark</th>\n",
       "      <th>Country</th>\n",
       "    </tr>\n",
       "  </thead>\n",
       "  <tbody>\n",
       "    <tr>\n",
       "      <th>0</th>\n",
       "      <td>John</td>\n",
       "      <td>2023-10-15 01:19:16+00:00</td>\n",
       "      <td>0 days 00:06:58</td>\n",
       "      <td>NaN</td>\n",
       "      <td>Lupin: Part 2: Chapter 7 (Episode 2)</td>\n",
       "      <td>NaN</td>\n",
       "      <td>Apple iPad Pro 11 in 3rd Gen (Wi-Fi) iPad</td>\n",
       "      <td>00:38:25</td>\n",
       "      <td>00:38:25</td>\n",
       "      <td>US (United States)</td>\n",
       "    </tr>\n",
       "    <tr>\n",
       "      <th>1</th>\n",
       "      <td>John</td>\n",
       "      <td>2023-10-15 00:19:47+00:00</td>\n",
       "      <td>0 days 00:20:57</td>\n",
       "      <td>NaN</td>\n",
       "      <td>Lupin: Part 2: Chapter 7 (Episode 2)</td>\n",
       "      <td>NaN</td>\n",
       "      <td>Apple iPad Pro 11 in 3rd Gen (Wi-Fi) iPad</td>\n",
       "      <td>00:28:07</td>\n",
       "      <td>Not latest view</td>\n",
       "      <td>US (United States)</td>\n",
       "    </tr>\n",
       "    <tr>\n",
       "      <th>2</th>\n",
       "      <td>John</td>\n",
       "      <td>2023-10-12 05:03:02+00:00</td>\n",
       "      <td>0 days 00:03:11</td>\n",
       "      <td>NaN</td>\n",
       "      <td>Sailor Moon Crystal: Season 1: Act. 6 Tuxedo M...</td>\n",
       "      <td>NaN</td>\n",
       "      <td>Apple TV 4K</td>\n",
       "      <td>00:03:11</td>\n",
       "      <td>00:03:11</td>\n",
       "      <td>US (United States)</td>\n",
       "    </tr>\n",
       "    <tr>\n",
       "      <th>3</th>\n",
       "      <td>John</td>\n",
       "      <td>2023-10-12 04:40:35+00:00</td>\n",
       "      <td>0 days 00:22:26</td>\n",
       "      <td>NaN</td>\n",
       "      <td>Sailor Moon Crystal: Season 1: Act. 5 Makoto -...</td>\n",
       "      <td>NaN</td>\n",
       "      <td>Apple TV 4K</td>\n",
       "      <td>00:22:26</td>\n",
       "      <td>00:22:26</td>\n",
       "      <td>US (United States)</td>\n",
       "    </tr>\n",
       "    <tr>\n",
       "      <th>4</th>\n",
       "      <td>John</td>\n",
       "      <td>2023-10-12 04:17:34+00:00</td>\n",
       "      <td>0 days 00:22:26</td>\n",
       "      <td>NaN</td>\n",
       "      <td>Sailor Moon Crystal: Season 1: Act. 4 Masquera...</td>\n",
       "      <td>NaN</td>\n",
       "      <td>Apple TV 4K</td>\n",
       "      <td>00:22:26</td>\n",
       "      <td>00:22:26</td>\n",
       "      <td>US (United States)</td>\n",
       "    </tr>\n",
       "    <tr>\n",
       "      <th>...</th>\n",
       "      <td>...</td>\n",
       "      <td>...</td>\n",
       "      <td>...</td>\n",
       "      <td>...</td>\n",
       "      <td>...</td>\n",
       "      <td>...</td>\n",
       "      <td>...</td>\n",
       "      <td>...</td>\n",
       "      <td>...</td>\n",
       "      <td>...</td>\n",
       "    </tr>\n",
       "    <tr>\n",
       "      <th>20275</th>\n",
       "      <td>nita</td>\n",
       "      <td>2018-09-18 11:13:35+00:00</td>\n",
       "      <td>0 days 00:24:28</td>\n",
       "      <td>Autoplayed: user action: Unspecified;</td>\n",
       "      <td>Fuller House: Season 1: Our Very First Show, A...</td>\n",
       "      <td>NaN</td>\n",
       "      <td>Verizon Fios VMS MVPD STB</td>\n",
       "      <td>00:34:45</td>\n",
       "      <td>00:34:45</td>\n",
       "      <td>US (United States)</td>\n",
       "    </tr>\n",
       "    <tr>\n",
       "      <th>20276</th>\n",
       "      <td>nita</td>\n",
       "      <td>2018-09-18 02:44:10+00:00</td>\n",
       "      <td>0 days 01:12:46</td>\n",
       "      <td>Autoplayed: user action: None;</td>\n",
       "      <td>Godless: Limited Series: Wisdom of the Horse (...</td>\n",
       "      <td>NaN</td>\n",
       "      <td>Verizon Fios VMS MVPD STB</td>\n",
       "      <td>01:12:50</td>\n",
       "      <td>01:12:50</td>\n",
       "      <td>US (United States)</td>\n",
       "    </tr>\n",
       "    <tr>\n",
       "      <th>20277</th>\n",
       "      <td>nita</td>\n",
       "      <td>2018-09-18 01:35:59+00:00</td>\n",
       "      <td>0 days 01:08:04</td>\n",
       "      <td>Autoplayed: user action: None;</td>\n",
       "      <td>Godless: Limited Series: The Ladies of La Bell...</td>\n",
       "      <td>NaN</td>\n",
       "      <td>Verizon Fios VMS MVPD STB</td>\n",
       "      <td>01:08:08</td>\n",
       "      <td>01:08:08</td>\n",
       "      <td>US (United States)</td>\n",
       "    </tr>\n",
       "    <tr>\n",
       "      <th>20278</th>\n",
       "      <td>nita</td>\n",
       "      <td>2018-09-18 01:03:54+00:00</td>\n",
       "      <td>0 days 00:12:18</td>\n",
       "      <td>Autoplayed: user action: Unspecified;</td>\n",
       "      <td>Fuller House: Season 1: Our Very First Show, A...</td>\n",
       "      <td>NaN</td>\n",
       "      <td>Verizon Fios IPC MVPD STB</td>\n",
       "      <td>00:10:17</td>\n",
       "      <td>Not latest view</td>\n",
       "      <td>US (United States)</td>\n",
       "    </tr>\n",
       "    <tr>\n",
       "      <th>20279</th>\n",
       "      <td>nita</td>\n",
       "      <td>2018-09-18 00:26:36+00:00</td>\n",
       "      <td>0 days 01:09:07</td>\n",
       "      <td>NaN</td>\n",
       "      <td>Godless: Limited Series: An Incident at Creede...</td>\n",
       "      <td>NaN</td>\n",
       "      <td>Verizon Fios VMS MVPD STB</td>\n",
       "      <td>01:09:07</td>\n",
       "      <td>Not latest view</td>\n",
       "      <td>US (United States)</td>\n",
       "    </tr>\n",
       "  </tbody>\n",
       "</table>\n",
       "<p>13516 rows × 10 columns</p>\n",
       "</div>"
      ],
      "text/plain": [
       "      Profile Name                Start Time        Duration  \\\n",
       "0             John 2023-10-15 01:19:16+00:00 0 days 00:06:58   \n",
       "1             John 2023-10-15 00:19:47+00:00 0 days 00:20:57   \n",
       "2             John 2023-10-12 05:03:02+00:00 0 days 00:03:11   \n",
       "3             John 2023-10-12 04:40:35+00:00 0 days 00:22:26   \n",
       "4             John 2023-10-12 04:17:34+00:00 0 days 00:22:26   \n",
       "...            ...                       ...             ...   \n",
       "20275         nita 2018-09-18 11:13:35+00:00 0 days 00:24:28   \n",
       "20276         nita 2018-09-18 02:44:10+00:00 0 days 01:12:46   \n",
       "20277         nita 2018-09-18 01:35:59+00:00 0 days 01:08:04   \n",
       "20278         nita 2018-09-18 01:03:54+00:00 0 days 00:12:18   \n",
       "20279         nita 2018-09-18 00:26:36+00:00 0 days 01:09:07   \n",
       "\n",
       "                                   Attributes  \\\n",
       "0                                         NaN   \n",
       "1                                         NaN   \n",
       "2                                         NaN   \n",
       "3                                         NaN   \n",
       "4                                         NaN   \n",
       "...                                       ...   \n",
       "20275  Autoplayed: user action: Unspecified;    \n",
       "20276         Autoplayed: user action: None;    \n",
       "20277         Autoplayed: user action: None;    \n",
       "20278  Autoplayed: user action: Unspecified;    \n",
       "20279                                     NaN   \n",
       "\n",
       "                                                   Title  \\\n",
       "0                   Lupin: Part 2: Chapter 7 (Episode 2)   \n",
       "1                   Lupin: Part 2: Chapter 7 (Episode 2)   \n",
       "2      Sailor Moon Crystal: Season 1: Act. 6 Tuxedo M...   \n",
       "3      Sailor Moon Crystal: Season 1: Act. 5 Makoto -...   \n",
       "4      Sailor Moon Crystal: Season 1: Act. 4 Masquera...   \n",
       "...                                                  ...   \n",
       "20275  Fuller House: Season 1: Our Very First Show, A...   \n",
       "20276  Godless: Limited Series: Wisdom of the Horse (...   \n",
       "20277  Godless: Limited Series: The Ladies of La Bell...   \n",
       "20278  Fuller House: Season 1: Our Very First Show, A...   \n",
       "20279  Godless: Limited Series: An Incident at Creede...   \n",
       "\n",
       "      Supplemental Video Type                                Device Type  \\\n",
       "0                         NaN  Apple iPad Pro 11 in 3rd Gen (Wi-Fi) iPad   \n",
       "1                         NaN  Apple iPad Pro 11 in 3rd Gen (Wi-Fi) iPad   \n",
       "2                         NaN                                Apple TV 4K   \n",
       "3                         NaN                                Apple TV 4K   \n",
       "4                         NaN                                Apple TV 4K   \n",
       "...                       ...                                        ...   \n",
       "20275                     NaN                  Verizon Fios VMS MVPD STB   \n",
       "20276                     NaN                  Verizon Fios VMS MVPD STB   \n",
       "20277                     NaN                  Verizon Fios VMS MVPD STB   \n",
       "20278                     NaN                  Verizon Fios IPC MVPD STB   \n",
       "20279                     NaN                  Verizon Fios VMS MVPD STB   \n",
       "\n",
       "       Bookmark  Latest Bookmark             Country  \n",
       "0      00:38:25         00:38:25  US (United States)  \n",
       "1      00:28:07  Not latest view  US (United States)  \n",
       "2      00:03:11         00:03:11  US (United States)  \n",
       "3      00:22:26         00:22:26  US (United States)  \n",
       "4      00:22:26         00:22:26  US (United States)  \n",
       "...         ...              ...                 ...  \n",
       "20275  00:34:45         00:34:45  US (United States)  \n",
       "20276  01:12:50         01:12:50  US (United States)  \n",
       "20277  01:08:08         01:08:08  US (United States)  \n",
       "20278  00:10:17  Not latest view  US (United States)  \n",
       "20279  01:09:07  Not latest view  US (United States)  \n",
       "\n",
       "[13516 rows x 10 columns]"
      ]
     },
     "execution_count": 30,
     "metadata": {},
     "output_type": "execute_result"
    }
   ],
   "source": [
    "df.loc[df['Supplemental Video Type'].isnull()]"
   ]
  },
  {
   "cell_type": "code",
   "execution_count": 31,
   "id": "4b356c43",
   "metadata": {},
   "outputs": [
    {
     "data": {
      "text/plain": [
       "John    10436\n",
       "nita     9411\n",
       "Kids      289\n",
       "Kian      144\n",
       "Name: Profile Name, dtype: int64"
      ]
     },
     "execution_count": 31,
     "metadata": {},
     "output_type": "execute_result"
    }
   ],
   "source": [
    "df['Profile Name'].value_counts()"
   ]
  },
  {
   "cell_type": "code",
   "execution_count": 32,
   "id": "a998cd6d",
   "metadata": {},
   "outputs": [
    {
     "data": {
      "text/plain": [
       "9249"
      ]
     },
     "execution_count": 32,
     "metadata": {},
     "output_type": "execute_result"
    }
   ],
   "source": [
    "df.loc[df['Profile Name']=='John','Supplemental Video Type'].isnull().sum()\n",
    "\n"
   ]
  },
  {
   "cell_type": "code",
   "execution_count": 33,
   "id": "d49ca82f",
   "metadata": {},
   "outputs": [
    {
     "data": {
      "text/plain": [
       "3881"
      ]
     },
     "execution_count": 33,
     "metadata": {},
     "output_type": "execute_result"
    }
   ],
   "source": [
    "df.loc[df['Profile Name']=='nita','Supplemental Video Type'].isnull().sum()\n"
   ]
  },
  {
   "cell_type": "code",
   "execution_count": 34,
   "id": "5d0329f6",
   "metadata": {},
   "outputs": [
    {
     "data": {
      "text/plain": [
       "99"
      ]
     },
     "execution_count": 34,
     "metadata": {},
     "output_type": "execute_result"
    }
   ],
   "source": [
    "df.loc[df['Profile Name']=='Kian','Supplemental Video Type'].isnull().sum()\n"
   ]
  },
  {
   "cell_type": "code",
   "execution_count": 35,
   "id": "cc763a1c",
   "metadata": {},
   "outputs": [
    {
     "data": {
      "text/plain": [
       "287"
      ]
     },
     "execution_count": 35,
     "metadata": {},
     "output_type": "execute_result"
    }
   ],
   "source": [
    "df.loc[df['Profile Name']=='Kids','Supplemental Video Type'].isnull().sum()\n"
   ]
  },
  {
   "cell_type": "code",
   "execution_count": 36,
   "id": "84e7bbbf",
   "metadata": {},
   "outputs": [],
   "source": [
    "# What devices are used by which Profile? \n",
    "#And which device is used the most?"
   ]
  },
  {
   "cell_type": "code",
   "execution_count": 37,
   "id": "f8a9ac3a",
   "metadata": {},
   "outputs": [
    {
     "data": {
      "text/plain": [
       "Roku Bryan-2 Set Top Box                        7596\n",
       "Sony PS4                                        6349\n",
       "Verizon Fios VMS MVPD STB                       1940\n",
       "Apple TV 4K                                     1682\n",
       "Safari MAC (Cadmium)                             598\n",
       "Sony PS3                                         352\n",
       "Roku Athens HDR Smart TV                         341\n",
       "Netflix Windows App - Cadmium Windows Mobile     325\n",
       "Apple iPhone 13 Pro Max                          249\n",
       "Windows 8 x64 devices                            242\n",
       "Apple iPad Pro 11 in 3rd Gen (Wi-Fi) iPad        168\n",
       "Google Chromecast V3 Streaming Stick             141\n",
       "Apple iPhone 11 Pro Max                          122\n",
       "Apple iPhone 8 Plus (GSM)                         55\n",
       "LG DTV 2021 MTK LM21A UHD TV Smart TV             41\n",
       "DefaultWidevineAndroidPhone                       38\n",
       "Verizon Fios IPC MVPD STB                         36\n",
       "Mobile                                             5\n",
       "Name: Device Type, dtype: int64"
      ]
     },
     "execution_count": 37,
     "metadata": {},
     "output_type": "execute_result"
    }
   ],
   "source": [
    "df['Device Type'].value_counts()"
   ]
  },
  {
   "cell_type": "code",
   "execution_count": 38,
   "id": "fb479e40",
   "metadata": {},
   "outputs": [
    {
     "data": {
      "image/png": "[encoded data removed]",
      "text/plain": [
       "<Figure size 640x480 with 1 Axes>"
      ]
     },
     "metadata": {},
     "output_type": "display_data"
    }
   ],
   "source": [
    "df['Device Type'].value_counts().plot(kind = 'bar')\n",
    "plt.show()"
   ]
  },
  {
   "cell_type": "code",
   "execution_count": 39,
   "id": "734d12c8",
   "metadata": {},
   "outputs": [],
   "source": [
    "df = df.loc[df['Profile Name'] == 'John']"
   ]
  }
 ],
 "metadata": {
  "kernelspec": {
   "display_name": "Python 3 (ipykernel)",
   "language": "python",
   "name": "python3"
  },
  "language_info": {
   "codemirror_mode": {
    "name": "ipython",
    "version": 3
   },
   "file_extension": ".py",
   "mimetype": "text/x-python",
   "name": "python",
   "nbconvert_exporter": "python",
   "pygments_lexer": "ipython3",
   "version": "3.9.13"
  }
 },
 "nbformat": 4,
 "nbformat_minor": 5
}
